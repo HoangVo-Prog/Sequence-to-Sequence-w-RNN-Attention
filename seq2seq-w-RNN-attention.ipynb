{
 "cells": [
  {
   "cell_type": "code",
   "execution_count": 3,
   "id": "e19a72b7-aaca-4f6b-b688-0a05103dd1a7",
   "metadata": {},
   "outputs": [
    {
     "name": "stdout",
     "output_type": "stream",
     "text": [
      "19.0.1 4.50.3 0.2.0\n"
     ]
    }
   ],
   "source": [
    "import pandas as pd\n",
    "import pyarrow\n",
    "import sentencepiece\n",
    "import transformers\n",
    "print(pyarrow.__version__, transformers.__version__, sentencepiece.__version__)"
   ]
  },
  {
   "cell_type": "code",
   "execution_count": 4,
   "id": "c72666a8-cc5d-4d04-81bd-457d42dd2aa5",
   "metadata": {},
   "outputs": [
    {
     "name": "stdout",
     "output_type": "stream",
     "text": [
      "                                                   en  \\\n",
      "0   Rachel Pike : The science behind a climate hea...   \n",
      "1   In 4 minutes , atmospheric chemist Rachel Pike...   \n",
      "2   I &apos;d like to talk to you today about the ...   \n",
      "3   Headlines that look like this when they have t...   \n",
      "4   They are both two branches of the same field o...   \n",
      "5   Recently the headlines looked like this when t...   \n",
      "6   That report was written by 620 scientists from...   \n",
      "7   They wrote almost a thousand pages on the topic .   \n",
      "8   And all of those pages were reviewed by anothe...   \n",
      "9   It &apos;s a big community . It &apos;s such a...   \n",
      "10  Over 15,000 scientists go to San Francisco eve...   \n",
      "11  And every one of those scientists is in a rese...   \n",
      "12  For us at Cambridge , it &apos;s as varied as ...   \n",
      "13  And in each one of these research areas , of w...   \n",
      "14  And one of the molecules I study is called iso...   \n",
      "15  The weight of a paper clip is approximately eq...   \n",
      "16  But despite its very small weight , enough of ...   \n",
      "17  It &apos;s a huge amount of stuff . It &apos;s...   \n",
      "18  And because it &apos;s so much stuff , it &apo...   \n",
      "19  Because it &apos;s important to the atmospheri...   \n",
      "\n",
      "                                                   vi  \n",
      "0            Khoa học đằng sau một tiêu đề về khí hậu  \n",
      "1   Trong 4 phút , chuyên gia hoá học khí quyển Ra...  \n",
      "2   Tôi muốn cho các bạn biết về sự to lớn của nhữ...  \n",
      "3   Có những dòng trông như thế này khi bàn về biế...  \n",
      "4   Cả hai đều là một nhánh của cùng một lĩnh vực ...  \n",
      "5   Các tiêu đề gần đây trông như thế này khi Ban ...  \n",
      "6   Nghiên cứu được viết bởi 620 nhà khoa học từ 4...  \n",
      "7              Họ viết gần 1000 trang về chủ đề này .  \n",
      "8   Và tất cả các trang đều được xem xét bởi 400 k...  \n",
      "9   Đó là cả một cộng đồng lớn , lớn đến nỗi trên ...  \n",
      "10  Mỗi năm , hơn 15,000 nhà khoa học đến San Fran...  \n",
      "11  Mỗi một khoa học gia đều thuộc một nhóm nghiên...  \n",
      "12  Với chúng tôi , tại Cambridge , các đề tài tha...  \n",
      "13  Mỗi lĩnh vực nghiên cứu lại chia ra những lĩnh...  \n",
      "14  Một trong số những phân tử tôi nghiên cứu tên ...  \n",
      "15  Trọng lượng của một chiếc kẹp giấy vào khoảng ...  \n",
      "16  Dù trọng lượng phân tử rất nhỏ , thế nhưng lượ...  \n",
      "17  Đó là một lượng khí thải khổng lồ , bằng tổng ...  \n",
      "18  Chính vì lượng khí thải rất lớn , nó có ý nghĩ...  \n",
      "19  Chính vì nó có ý nghĩa quan trọng với hệ thống...  \n"
     ]
    }
   ],
   "source": [
    "file_path = f\"iwslt2015-en-vi/train-00000-of-00001.parquet\"\n",
    "train = pd.read_parquet(file_path)\n",
    "print(train.head(20))"
   ]
  },
  {
   "cell_type": "code",
   "execution_count": null,
   "id": "25155ac3-cd43-441c-adb3-8bab0549b6ac",
   "metadata": {},
   "outputs": [],
   "source": []
  },
  {
   "cell_type": "code",
   "execution_count": null,
   "id": "87ec983f-6583-4d1c-b849-90407c85f696",
   "metadata": {},
   "outputs": [],
   "source": []
  },
  {
   "cell_type": "code",
   "execution_count": null,
   "id": "4364c703-306b-4422-b2ee-887973779a71",
   "metadata": {},
   "outputs": [],
   "source": []
  }
 ],
 "metadata": {
  "kernelspec": {
   "display_name": "Python (py_3.11)",
   "language": "python",
   "name": "py_3.11"
  },
  "language_info": {
   "codemirror_mode": {
    "name": "ipython",
    "version": 3
   },
   "file_extension": ".py",
   "mimetype": "text/x-python",
   "name": "python",
   "nbconvert_exporter": "python",
   "pygments_lexer": "ipython3",
   "version": "3.11.11"
  }
 },
 "nbformat": 4,
 "nbformat_minor": 5
}
